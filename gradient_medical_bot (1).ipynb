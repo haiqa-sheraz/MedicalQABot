{
  "nbformat": 4,
  "nbformat_minor": 0,
  "metadata": {
    "colab": {
      "provenance": []
    },
    "kernelspec": {
      "name": "python3",
      "display_name": "Python 3"
    },
    "language_info": {
      "name": "python"
    }
  },
  "cells": [
    {
      "cell_type": "code",
      "source": [
        "pip install datasets"
      ],
      "metadata": {
        "colab": {
          "base_uri": "https://localhost:8080/"
        },
        "id": "Qewf-FW2tvxm",
        "outputId": "915d7121-3510-4fab-8e51-ec80f50fbb5a"
      },
      "execution_count": null,
      "outputs": [
        {
          "output_type": "stream",
          "name": "stdout",
          "text": [
            "Requirement already satisfied: datasets in /usr/local/lib/python3.10/dist-packages (2.17.0)\n",
            "Requirement already satisfied: filelock in /usr/local/lib/python3.10/dist-packages (from datasets) (3.13.1)\n",
            "Requirement already satisfied: numpy>=1.17 in /usr/local/lib/python3.10/dist-packages (from datasets) (1.23.5)\n",
            "Requirement already satisfied: pyarrow>=12.0.0 in /usr/local/lib/python3.10/dist-packages (from datasets) (15.0.0)\n",
            "Requirement already satisfied: pyarrow-hotfix in /usr/local/lib/python3.10/dist-packages (from datasets) (0.6)\n",
            "Requirement already satisfied: dill<0.3.9,>=0.3.0 in /usr/local/lib/python3.10/dist-packages (from datasets) (0.3.8)\n",
            "Requirement already satisfied: pandas in /usr/local/lib/python3.10/dist-packages (from datasets) (1.5.3)\n",
            "Requirement already satisfied: requests>=2.19.0 in /usr/local/lib/python3.10/dist-packages (from datasets) (2.31.0)\n",
            "Requirement already satisfied: tqdm>=4.62.1 in /usr/local/lib/python3.10/dist-packages (from datasets) (4.66.1)\n",
            "Requirement already satisfied: xxhash in /usr/local/lib/python3.10/dist-packages (from datasets) (3.4.1)\n",
            "Requirement already satisfied: multiprocess in /usr/local/lib/python3.10/dist-packages (from datasets) (0.70.16)\n",
            "Requirement already satisfied: fsspec[http]<=2023.10.0,>=2023.1.0 in /usr/local/lib/python3.10/dist-packages (from datasets) (2023.6.0)\n",
            "Requirement already satisfied: aiohttp in /usr/local/lib/python3.10/dist-packages (from datasets) (3.9.3)\n",
            "Requirement already satisfied: huggingface-hub>=0.19.4 in /usr/local/lib/python3.10/dist-packages (from datasets) (0.20.3)\n",
            "Requirement already satisfied: packaging in /usr/local/lib/python3.10/dist-packages (from datasets) (23.2)\n",
            "Requirement already satisfied: pyyaml>=5.1 in /usr/local/lib/python3.10/dist-packages (from datasets) (6.0.1)\n",
            "Requirement already satisfied: aiosignal>=1.1.2 in /usr/local/lib/python3.10/dist-packages (from aiohttp->datasets) (1.3.1)\n",
            "Requirement already satisfied: attrs>=17.3.0 in /usr/local/lib/python3.10/dist-packages (from aiohttp->datasets) (23.2.0)\n",
            "Requirement already satisfied: frozenlist>=1.1.1 in /usr/local/lib/python3.10/dist-packages (from aiohttp->datasets) (1.4.1)\n",
            "Requirement already satisfied: multidict<7.0,>=4.5 in /usr/local/lib/python3.10/dist-packages (from aiohttp->datasets) (6.0.5)\n",
            "Requirement already satisfied: yarl<2.0,>=1.0 in /usr/local/lib/python3.10/dist-packages (from aiohttp->datasets) (1.9.4)\n",
            "Requirement already satisfied: async-timeout<5.0,>=4.0 in /usr/local/lib/python3.10/dist-packages (from aiohttp->datasets) (4.0.3)\n",
            "Requirement already satisfied: typing-extensions>=3.7.4.3 in /usr/local/lib/python3.10/dist-packages (from huggingface-hub>=0.19.4->datasets) (4.9.0)\n",
            "Requirement already satisfied: charset-normalizer<4,>=2 in /usr/local/lib/python3.10/dist-packages (from requests>=2.19.0->datasets) (3.3.2)\n",
            "Requirement already satisfied: idna<4,>=2.5 in /usr/local/lib/python3.10/dist-packages (from requests>=2.19.0->datasets) (3.6)\n",
            "Requirement already satisfied: urllib3<3,>=1.21.1 in /usr/local/lib/python3.10/dist-packages (from requests>=2.19.0->datasets) (2.0.7)\n",
            "Requirement already satisfied: certifi>=2017.4.17 in /usr/local/lib/python3.10/dist-packages (from requests>=2.19.0->datasets) (2024.2.2)\n",
            "Requirement already satisfied: python-dateutil>=2.8.1 in /usr/local/lib/python3.10/dist-packages (from pandas->datasets) (2.8.2)\n",
            "Requirement already satisfied: pytz>=2020.1 in /usr/local/lib/python3.10/dist-packages (from pandas->datasets) (2023.4)\n",
            "Requirement already satisfied: six>=1.5 in /usr/local/lib/python3.10/dist-packages (from python-dateutil>=2.8.1->pandas->datasets) (1.16.0)\n"
          ]
        }
      ]
    },
    {
      "cell_type": "code",
      "execution_count": null,
      "metadata": {
        "colab": {
          "base_uri": "https://localhost:8080/"
        },
        "id": "ebCyaD4sts3O",
        "outputId": "71a05c83-3ba0-4306-85a8-dedace293724"
      },
      "outputs": [
        {
          "output_type": "stream",
          "name": "stderr",
          "text": [
            "/usr/local/lib/python3.10/dist-packages/huggingface_hub/utils/_token.py:88: UserWarning: \n",
            "The secret `HF_TOKEN` does not exist in your Colab secrets.\n",
            "To authenticate with the Hugging Face Hub, create a token in your settings tab (https://huggingface.co/settings/tokens), set it as secret in your Google Colab and restart your session.\n",
            "You will be able to reuse this secret in all of your notebooks.\n",
            "Please note that authentication is recommended but still optional to access public models or datasets.\n",
            "  warnings.warn(\n"
          ]
        }
      ],
      "source": [
        "from datasets import load_dataset\n",
        "dataset = load_dataset(\"medalpaca/medical_meadow_wikidoc_patient_information\")"
      ]
    },
    {
      "cell_type": "code",
      "source": [
        "dataset"
      ],
      "metadata": {
        "colab": {
          "base_uri": "https://localhost:8080/"
        },
        "id": "tapxBlMmt9BA",
        "outputId": "8badead3-3c42-4bfe-dd4e-7555e0fe7510"
      },
      "execution_count": null,
      "outputs": [
        {
          "output_type": "execute_result",
          "data": {
            "text/plain": [
              "DatasetDict({\n",
              "    train: Dataset({\n",
              "        features: ['output', 'instruction', 'input'],\n",
              "        num_rows: 5942\n",
              "    })\n",
              "})"
            ]
          },
          "metadata": {},
          "execution_count": 3
        }
      ]
    },
    {
      "cell_type": "code",
      "source": [
        "import pandas as pd\n",
        "\n",
        "# Assuming your DatasetDict object is named dataset_dict\n",
        "# Accessing the 'train' dataset within the DatasetDict\n",
        "train_dataset = dataset['train']\n",
        "\n",
        "# Converting the 'train' dataset to a pandas DataFrame\n",
        "df = train_dataset.to_pandas()\n",
        "\n",
        "# Extracting the first 300 rows\n",
        "subset_df = df.head(100)\n",
        "\n",
        "# Creating a list to store the transformed samples\n",
        "samples = []\n",
        "\n",
        "# Iterating through each row of the subset DataFrame\n",
        "for index, row in subset_df.iterrows():\n",
        "    # Creating the input and output strings as per the specified format\n",
        "    inputs = \"### Instruction: \" + row['input'] + \"\\n\\n### Response:\" + row['output']\n",
        "    # Appending the input and output strings to the samples list as a dictionary\n",
        "    samples.append({\"inputs\": inputs})\n",
        "\n",
        "# Printing the first few samples to verify the format\n",
        "print(samples[:5])  # Adjust the number to display more or fewer samples if needed\n"
      ],
      "metadata": {
        "colab": {
          "base_uri": "https://localhost:8080/"
        },
        "id": "CshJjRo9uCqM",
        "outputId": "eec2c289-f40e-4542-a836-3222389fbfb8"
      },
      "execution_count": null,
      "outputs": [
        {
          "output_type": "stream",
          "name": "stdout",
          "text": [
            "[{'inputs': '### Instruction: What are the symptoms of Allergy?\\n\\n### Response:Allergy symptoms vary, but may include:\\nBreathing problems (coughing, shortness of breath) Burning, tearing, or itchy eyes Conjunctivitis (red, swollen eyes) Coughing Diarrhea Headache Hives Itching of the nose, mouth, throat, skin, or any other area Runny nose Skin rashes Stomach cramps Vomiting Wheezing\\nWhat part of the body is contacted by the allergen plays a role in the symptoms you develop. For example:\\nAllergens that are breathed in often cause a stuffy nose, itchy nose and throat, mucus production, cough, or wheezing. Allergens that touch the eyes may cause itchy, watery, red, swollen eyes. Eating something you are allergic to can cause nausea, vomiting, abdominal pain, cramping, diarrhea, or a severe, life-threatening reaction. Allergens that touch the skin can cause a skin rash, hives, itching, blisters, or even skin peeling. Drug allergies usually involve the whole body and can lead to a variety of symptoms.'}, {'inputs': '### Instruction: What causes Allergy?\\n\\n### Response:The immune system normally protects the body against harmful substances, such as bacteria and viruses. It also reacts to foreign substances called allergens, which are generally harmless and in most people do not cause a problem.But in a person with allergies, the immune response is oversensitive. When it recognizes an allergen, it releases chemicals such as histamines. which fight off the allergen. This causes itching, swelling, mucus production, muscle spasms, hives, rashes, and other symptoms, which vary from person to person.\\nCommon allergens include pollen, mold, pet dander, and dust. Food and drug allergies are common. Allergic reactions can also be caused by insect bites, jewelry, cosmetics, spices, and other substances.Some people have allergy-like reactions to hot or cold temperatures, sunlight, or other environmental triggers.\\nSometimes, friction (rubbing or roughly stroking the skin) will cause symptoms.A specific allergy is not usually passed down through families (inherited). However, if both your parents have allergies, you are likely to have allergies. The chance is greater if your mother has allergies.\\nAllergies may make certain medical conditions such as sinus problems, eczema, and asthma worse.Allergies are relatively common. Both genetics and environmental factors play a role.'}, {'inputs': '### Instruction: When to seek urgent medical care when I have Allergy ?\\n\\n### Response:Call for an appointment with your health care provider if:\\nSevere symptoms of allergy occur. Treatment for allergies no longer works.'}, {'inputs': '### Instruction: What to expect if I have Allergy  (Outlook/Prognosis)?\\n\\n### Response:Most allergies can be easily treated with medication. Some children may outgrow an allergy. This is particularly true of food allergies. However, as a general rule, once a substance has triggered an allergic reaction, it continues to affect the person.\\nAllergy shots are most effective when used to treat those with hay fever symptoms and severe insect sting allergies. They are not used to treat food allergies because of the danger of a severe reaction. Allergy shots may require years of treatment, but they work in most cases. However, they may cause uncomfortable side effects (such as hives and rash) and dangerous outcomes (such as anaphylaxis).'}, {'inputs': '### Instruction: What are the symptoms of Anaphylaxis?\\n\\n### Response:Symptoms develop rapidly, often within seconds or minutes. They may include the following:\\nAbdominal pain or cramping Abnormal (high-pitched) breathing sounds Anxiety Confusion Cough Diarrhea Difficulty breathing Difficulty swallowing Fainting, light-headedness, dizziness Hives, itchiness Nasal congestion Nausea, vomiting Palpitations Skin redness Slurred speech Wheezing'}]\n"
          ]
        }
      ]
    },
    {
      "cell_type": "code",
      "source": [
        "!pip install gradientai --upgrade"
      ],
      "metadata": {
        "colab": {
          "base_uri": "https://localhost:8080/",
          "height": 581
        },
        "id": "dDg4ZXmuvxY7",
        "outputId": "bea7d94e-416d-4e81-ad6b-eca147fa17f2"
      },
      "execution_count": null,
      "outputs": [
        {
          "output_type": "stream",
          "name": "stdout",
          "text": [
            "Collecting gradientai\n",
            "  Downloading gradientai-1.7.0-py3-none-any.whl (270 kB)\n",
            "\u001b[2K     \u001b[90m━━━━━━━━━━━━━━━━━━━━━━━━━━━━━━━━━━━━━━━━\u001b[0m \u001b[32m270.4/270.4 kB\u001b[0m \u001b[31m2.2 MB/s\u001b[0m eta \u001b[36m0:00:00\u001b[0m\n",
            "\u001b[?25hCollecting aenum>=3.1.11 (from gradientai)\n",
            "  Downloading aenum-3.1.15-py3-none-any.whl (137 kB)\n",
            "\u001b[2K     \u001b[90m━━━━━━━━━━━━━━━━━━━━━━━━━━━━━━━━━━━━━━━━\u001b[0m \u001b[32m137.6/137.6 kB\u001b[0m \u001b[31m13.4 MB/s\u001b[0m eta \u001b[36m0:00:00\u001b[0m\n",
            "\u001b[?25hCollecting pydantic<2.0.0,>=1.10.5 (from gradientai)\n",
            "  Downloading pydantic-1.10.14-cp310-cp310-manylinux_2_17_x86_64.manylinux2014_x86_64.whl (3.1 MB)\n",
            "\u001b[2K     \u001b[90m━━━━━━━━━━━━━━━━━━━━━━━━━━━━━━━━━━━━━━━━\u001b[0m \u001b[32m3.1/3.1 MB\u001b[0m \u001b[31m20.3 MB/s\u001b[0m eta \u001b[36m0:00:00\u001b[0m\n",
            "\u001b[?25hRequirement already satisfied: python-dateutil>=2.8.2 in /usr/local/lib/python3.10/dist-packages (from gradientai) (2.8.2)\n",
            "Requirement already satisfied: urllib3>=1.25.3 in /usr/local/lib/python3.10/dist-packages (from gradientai) (2.0.7)\n",
            "Requirement already satisfied: typing-extensions>=4.2.0 in /usr/local/lib/python3.10/dist-packages (from pydantic<2.0.0,>=1.10.5->gradientai) (4.9.0)\n",
            "Requirement already satisfied: six>=1.5 in /usr/local/lib/python3.10/dist-packages (from python-dateutil>=2.8.2->gradientai) (1.16.0)\n",
            "Installing collected packages: aenum, pydantic, gradientai\n",
            "  Attempting uninstall: pydantic\n",
            "    Found existing installation: pydantic 2.6.1\n",
            "    Uninstalling pydantic-2.6.1:\n",
            "      Successfully uninstalled pydantic-2.6.1\n",
            "\u001b[31mERROR: pip's dependency resolver does not currently take into account all the packages that are installed. This behaviour is the source of the following dependency conflicts.\n",
            "lida 0.0.10 requires fastapi, which is not installed.\n",
            "lida 0.0.10 requires kaleido, which is not installed.\n",
            "lida 0.0.10 requires python-multipart, which is not installed.\n",
            "lida 0.0.10 requires uvicorn, which is not installed.\n",
            "llmx 0.0.15a0 requires cohere, which is not installed.\n",
            "llmx 0.0.15a0 requires openai, which is not installed.\n",
            "llmx 0.0.15a0 requires tiktoken, which is not installed.\u001b[0m\u001b[31m\n",
            "\u001b[0mSuccessfully installed aenum-3.1.15 gradientai-1.7.0 pydantic-1.10.14\n"
          ]
        },
        {
          "output_type": "display_data",
          "data": {
            "application/vnd.colab-display-data+json": {
              "pip_warning": {
                "packages": [
                  "pydantic"
                ]
              }
            }
          },
          "metadata": {}
        }
      ]
    },
    {
      "cell_type": "code",
      "source": [
        "import os\n",
        "os.environ['GRADIENT_ACCESS_TOKEN'] = \"nCE0cpusIR5Z5Jg0Y8QN15RSkUE2zAH5\"\n",
        "os.environ['GRADIENT_WORKSPACE_ID'] = \"10527918-16fb-4c39-8cbf-5e5229a797ba_workspace\""
      ],
      "metadata": {
        "id": "AAtxaDD_yiOj"
      },
      "execution_count": null,
      "outputs": []
    },
    {
      "cell_type": "code",
      "source": [
        "from gradientai import Gradient"
      ],
      "metadata": {
        "id": "pgWqZEj-zOtT"
      },
      "execution_count": null,
      "outputs": []
    },
    {
      "cell_type": "code",
      "source": [
        "gradient = Gradient()\n",
        "\n",
        "base_model = gradient.get_base_model(base_model_slug=\"nous-hermes2\")\n",
        "\n",
        "new_model_adapter = base_model.create_model_adapter(\n",
        "    name = \"medical bot\"\n",
        ")\n",
        "\n",
        "print(\"Created model adapter with ID:\", new_model_adapter.id)"
      ],
      "metadata": {
        "colab": {
          "base_uri": "https://localhost:8080/"
        },
        "id": "1VPbjmJHzWAB",
        "outputId": "c0a20fcc-09b3-43c1-857c-809d488490d3"
      },
      "execution_count": null,
      "outputs": [
        {
          "output_type": "stream",
          "name": "stdout",
          "text": [
            "Created model adapter with ID: b45e6cae-d6d9-4605-82f3-6985bd9edf69_model_adapter\n"
          ]
        }
      ]
    },
    {
      "cell_type": "code",
      "source": [
        "sample_query = \"### Instruction: What to expect if I have Allergy?\\n\\n ### Response:\"\n",
        "print(\"Query:\", sample_query)\n",
        "\n",
        "completion = new_model_adapter.complete(query=sample_query, max_generated_token_count=100).generated_output\n",
        "print(\"Output before finetuning:\\n\", completion)"
      ],
      "metadata": {
        "colab": {
          "base_uri": "https://localhost:8080/"
        },
        "id": "lLPjp9za0LNn",
        "outputId": "e8610810-8f03-407a-bfa0-26f8cbcfa42f"
      },
      "execution_count": null,
      "outputs": [
        {
          "output_type": "stream",
          "name": "stdout",
          "text": [
            "Query: ### Instruction: What to expect if I have Allergy?\n",
            "\n",
            " ### Response:\n",
            "Output before finetuning:\n",
            "  If you have an allergy, you can expect to experience symptoms such as sneezing, runny nose, itchy eyes, and congestion. These symptoms are caused by your immune system reacting to an allergen, which is a substance that triggers an allergic reaction. The severity of your symptoms can vary depending on the type and severity of your allergy.\n",
            "\n",
            "In some cases, allergies can cause more severe reactions\n"
          ]
        }
      ]
    },
    {
      "cell_type": "code",
      "source": [
        "num_epochs = 10\n",
        "for epoch in range(num_epochs):\n",
        "  print(\"Fine-tuning model - iteration\", epoch+1)\n",
        "  new_model_adapter.fine_tune(samples=samples)"
      ],
      "metadata": {
        "colab": {
          "base_uri": "https://localhost:8080/"
        },
        "id": "YEAltcuZ1P4Y",
        "outputId": "594dbe57-ff91-433f-8fb6-8c12c2c944ec"
      },
      "execution_count": null,
      "outputs": [
        {
          "output_type": "stream",
          "name": "stdout",
          "text": [
            "Fine-tuning model - iteration 1\n",
            "Fine-tuning model - iteration 2\n",
            "Fine-tuning model - iteration 3\n",
            "Fine-tuning model - iteration 4\n",
            "Fine-tuning model - iteration 5\n",
            "Fine-tuning model - iteration 6\n",
            "Fine-tuning model - iteration 7\n",
            "Fine-tuning model - iteration 8\n",
            "Fine-tuning model - iteration 9\n",
            "Fine-tuning model - iteration 10\n"
          ]
        }
      ]
    },
    {
      "cell_type": "code",
      "source": [
        "sample_query = \"### Instruction: What to expect if I have Allergy\\n\\n ###\"\n",
        "completion = new_model_adapter.complete(query=sample_query, max_generated_token_count=300).generated_output\n",
        "print(\"After fine-tuning:\", completion)\n"
      ],
      "metadata": {
        "colab": {
          "base_uri": "https://localhost:8080/"
        },
        "id": "LEsMytBA2Vyf",
        "outputId": "c3bced84-018d-42b8-9897-0da40446f465"
      },
      "execution_count": null,
      "outputs": [
        {
          "output_type": "stream",
          "name": "stdout",
          "text": [
            "After fine-tuning: Allergy symptoms vary, but may include:\n",
            "Breathing problems (coughing, shortness of breath) Burning, tearing, or itchy eyes Conjunctivitis (red, swollen eyes) Coughing Runny nose Skin rashes Stomach cramps Vomiting Wheezing\n",
            "What part of the body is contacted by the foreign substance does not matter. The immune system considers the substance dangerous, even if others are not affected by it.\n",
            "Often, the body's immune response to a harmless substance is greater than the body's response to something that is actually dangerous. This is the reason why some people have allergy-like reactions to non-allergic substances.\n",
            "Allergies are relatively common. Many people have nauseating or uncomfortable symptoms for a short time after eating, for example, but this is not an allergy. True allergies are less common.\n",
            "Allergies can be treated with medications such as antihistamines, decongestants, and corticosteroids. In some cases, an allergy shot may be needed. Avoidance of the substance that causes the allergy is an important part of treatment.\n",
            "In rare cases, an allergy can cause a severe reaction called anaphylaxis. This reaction can be life-\n"
          ]
        }
      ]
    },
    {
      "cell_type": "code",
      "source": [],
      "metadata": {
        "id": "7lPvqzVAO39w"
      },
      "execution_count": null,
      "outputs": []
    }
  ]
}